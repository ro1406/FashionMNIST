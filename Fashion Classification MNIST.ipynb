{
 "cells": [
  {
   "cell_type": "markdown",
   "id": "c003d4a5",
   "metadata": {},
   "source": [
    "# Fashion Classification Challenge\n",
    "## Challenge at: https://dockship.io/challenges/5efd8aa88a71d71db311a86f/fashion-mnist-classification-challenge/overview"
   ]
  },
  {
   "cell_type": "code",
   "execution_count": 1,
   "id": "9dd038d8",
   "metadata": {},
   "outputs": [],
   "source": [
    "import keras\n",
    "import tensorflow as tf\n",
    "import numpy as np\n",
    "import time\n",
    "import gzip\n",
    "import pandas as pd\n",
    "import matplotlib.pyplot as plt\n",
    "from keras.models import Model,Sequential\n",
    "from keras.layers import Conv2D,Flatten,Dense,MaxPool2D,Dropout,BatchNormalization"
   ]
  },
  {
   "cell_type": "code",
   "execution_count": 2,
   "id": "c38ebcce",
   "metadata": {},
   "outputs": [],
   "source": [
    "import tensorflow as tf\n",
    "from tensorflow.keras.models import load_model, Model\n",
    "from tensorflow.python.keras import backend as K\n",
    "config = tf.compat.v1.ConfigProto( device_count = {'GPU': 1 , 'CPU': 6} ) \n",
    "sess = tf.compat.v1.Session(config=config)\n",
    "K.set_session(sess)"
   ]
  },
  {
   "cell_type": "code",
   "execution_count": 3,
   "id": "630e2767",
   "metadata": {},
   "outputs": [],
   "source": [
    "from keras import backend as K\n",
    "\n",
    "def F1_Score(y_true, y_pred): #taken from old keras source code\n",
    "    true_positives = K.sum(K.round(K.clip(y_true * y_pred, 0, 1)))\n",
    "    possible_positives = K.sum(K.round(K.clip(y_true, 0, 1)))\n",
    "    predicted_positives = K.sum(K.round(K.clip(y_pred, 0, 1)))\n",
    "    precision = true_positives / (predicted_positives + K.epsilon())\n",
    "    recall = true_positives / (possible_positives + K.epsilon())\n",
    "    f1_val = 2*(precision*recall)/(precision+recall+K.epsilon())\n",
    "    return f1_val"
   ]
  },
  {
   "cell_type": "code",
   "execution_count": 4,
   "id": "ad6061b2",
   "metadata": {},
   "outputs": [],
   "source": [
    "picsfile = gzip.open('/fashion_mnist_classification_challenge-dataset/Fashion_MNIST/train-images-idx3-ubyte.gz', 'r')\n",
    "lblsfile = gzip.open('/fashion_mnist_classification_challenge-dataset/Fashion_MNIST/train-labels-idx1-ubyte.gz', 'r')"
   ]
  },
  {
   "cell_type": "code",
   "execution_count": 5,
   "id": "0a44cb93",
   "metadata": {},
   "outputs": [],
   "source": [
    "picsfile.read(16)\n",
    "lblsfile.read(8)\n",
    "pics=picsfile.read(28*28*60000)\n",
    "lbls=lblsfile.read(60000)"
   ]
  },
  {
   "cell_type": "code",
   "execution_count": 6,
   "id": "48396809",
   "metadata": {},
   "outputs": [],
   "source": [
    "x = np.frombuffer(pics, dtype=np.uint8).astype(np.float32).reshape(60000, 28, 28, 1)\n",
    "y = np.frombuffer(lbls, dtype=np.uint8).astype(np.float32).reshape(60000,1)"
   ]
  },
  {
   "cell_type": "code",
   "execution_count": 7,
   "id": "7e3bb61e",
   "metadata": {},
   "outputs": [
    {
     "data": {
      "text/plain": [
       "<matplotlib.image.AxesImage at 0x2393f648bc8>"
      ]
     },
     "execution_count": 7,
     "metadata": {},
     "output_type": "execute_result"
    },
    {
     "data": {
      "image/png": "[encoded data removed]",
      "text/plain": [
       "<Figure size 432x288 with 1 Axes>"
      ]
     },
     "metadata": {
      "needs_background": "light"
     },
     "output_type": "display_data"
    }
   ],
   "source": [
    "plt.imshow(x[0])"
   ]
  },
  {
   "cell_type": "code",
   "execution_count": 8,
   "id": "683ae20d",
   "metadata": {},
   "outputs": [],
   "source": [
    "x=x/255. #Normalize the inputs"
   ]
  },
  {
   "cell_type": "code",
   "execution_count": 9,
   "id": "9a998823",
   "metadata": {},
   "outputs": [],
   "source": [
    "y=tf.one_hot(y,10)"
   ]
  },
  {
   "cell_type": "code",
   "execution_count": 10,
   "id": "d2e62b5b",
   "metadata": {},
   "outputs": [
    {
     "data": {
      "text/plain": [
       "<tf.Tensor: shape=(1, 10), dtype=float32, numpy=array([[0., 0., 0., 0., 0., 0., 0., 0., 0., 1.]], dtype=float32)>"
      ]
     },
     "execution_count": 10,
     "metadata": {},
     "output_type": "execute_result"
    }
   ],
   "source": [
    "y[0]"
   ]
  },
  {
   "cell_type": "code",
   "execution_count": 11,
   "id": "7df77466",
   "metadata": {},
   "outputs": [],
   "source": [
    "y=y.numpy().reshape(60000,10)"
   ]
  },
  {
   "cell_type": "code",
   "execution_count": 12,
   "id": "2146fa27",
   "metadata": {},
   "outputs": [],
   "source": [
    "def makeModel():\n",
    "    model=Sequential()\n",
    "    model.add( Conv2D(filters=16, kernel_size=(4,4), padding='Same',activation='relu', input_shape=(28,28,1)) )\n",
    "    model.add( MaxPool2D(pool_size=(2,2)) )\n",
    "    model.add(Dropout(0.2))\n",
    "    \n",
    "    model.add( Conv2D(filters=32, kernel_size=(3,3), padding='Same',activation='relu') )\n",
    "    model.add( MaxPool2D(pool_size=(2,2)) )\n",
    "    model.add(Dropout(0.2))\n",
    "    \n",
    "    model.add( Conv2D(filters=64, kernel_size=(3,3), padding='Same',activation='relu') )\n",
    "    model.add( MaxPool2D(pool_size=(2,2)) )\n",
    "    model.add(Dropout(0.2))\n",
    "    \n",
    "    model.add( Conv2D(filters=64, kernel_size=(2,2), padding='Same',activation='relu') )\n",
    "    model.add( MaxPool2D(pool_size=(2,2)) )\n",
    "    model.add(Dropout(0.2))\n",
    "    \n",
    "    model.add(Flatten())\n",
    "    \n",
    "    model.add(Dense(256,activation='relu'))\n",
    "    model.add(Dense(10,activation='softmax'))\n",
    "    \n",
    "    model.summary()\n",
    "    return model"
   ]
  },
  {
   "cell_type": "code",
   "execution_count": 13,
   "id": "bb7a58c2",
   "metadata": {},
   "outputs": [],
   "source": [
    "def makeModel2():\n",
    "    model=Sequential()\n",
    "    model.add( Conv2D(filters=32, kernel_size=(4,4), padding='Same',activation='relu', input_shape=(28,28,1)) )\n",
    "    model.add(BatchNormalization())\n",
    "    model.add( Conv2D(filters=32, kernel_size=(3,3), padding='Same',activation='relu') )\n",
    "    model.add(BatchNormalization())\n",
    "    model.add( MaxPool2D(pool_size=(2,2)) )\n",
    "    model.add(Dropout(0.2))\n",
    "    \n",
    "    model.add( Conv2D(filters=64, kernel_size=(3,3), padding='Same',activation='relu') )\n",
    "    model.add(BatchNormalization())\n",
    "    model.add( Conv2D(filters=64, kernel_size=(2,2), padding='Same',activation='relu') )\n",
    "    model.add(BatchNormalization())\n",
    "    model.add( MaxPool2D(pool_size=(2,2)) )\n",
    "    model.add(Dropout(0.2))\n",
    "    \n",
    "    model.add( Conv2D(filters=128, kernel_size=(3,3), padding='Same',activation='relu') )\n",
    "    model.add(BatchNormalization())\n",
    "    model.add( Conv2D(filters=128, kernel_size=(2,2), padding='Same',activation='relu') )\n",
    "    model.add(BatchNormalization())\n",
    "    model.add( MaxPool2D(pool_size=(2,2)) )\n",
    "    model.add(Dropout(0.2))\n",
    "    \n",
    "    model.add(Flatten())\n",
    "    \n",
    "    model.add(Dense(512,activation='relu'))\n",
    "    model.add(BatchNormalization())\n",
    "    model.add(Dense(10,activation='softmax'))\n",
    "    \n",
    "    model.summary()\n",
    "    return model"
   ]
  },
  {
   "cell_type": "code",
   "execution_count": 14,
   "id": "cd272453",
   "metadata": {
    "scrolled": true
   },
   "outputs": [
    {
     "name": "stdout",
     "output_type": "stream",
     "text": [
      "Model: \"sequential\"\n",
      "_________________________________________________________________\n",
      "Layer (type)                 Output Shape              Param #   \n",
      "=================================================================\n",
      "conv2d (Conv2D)              (None, 28, 28, 32)        544       \n",
      "_________________________________________________________________\n",
      "batch_normalization (BatchNo (None, 28, 28, 32)        128       \n",
      "_________________________________________________________________\n",
      "conv2d_1 (Conv2D)            (None, 28, 28, 32)        9248      \n",
      "_________________________________________________________________\n",
      "batch_normalization_1 (Batch (None, 28, 28, 32)        128       \n",
      "_________________________________________________________________\n",
      "max_pooling2d (MaxPooling2D) (None, 14, 14, 32)        0         \n",
      "_________________________________________________________________\n",
      "dropout (Dropout)            (None, 14, 14, 32)        0         \n",
      "_________________________________________________________________\n",
      "conv2d_2 (Conv2D)            (None, 14, 14, 64)        18496     \n",
      "_________________________________________________________________\n",
      "batch_normalization_2 (Batch (None, 14, 14, 64)        256       \n",
      "_________________________________________________________________\n",
      "conv2d_3 (Conv2D)            (None, 14, 14, 64)        16448     \n",
      "_________________________________________________________________\n",
      "batch_normalization_3 (Batch (None, 14, 14, 64)        256       \n",
      "_________________________________________________________________\n",
      "max_pooling2d_1 (MaxPooling2 (None, 7, 7, 64)          0         \n",
      "_________________________________________________________________\n",
      "dropout_1 (Dropout)          (None, 7, 7, 64)          0         \n",
      "_________________________________________________________________\n",
      "conv2d_4 (Conv2D)            (None, 7, 7, 128)         73856     \n",
      "_________________________________________________________________\n",
      "batch_normalization_4 (Batch (None, 7, 7, 128)         512       \n",
      "_________________________________________________________________\n",
      "conv2d_5 (Conv2D)            (None, 7, 7, 128)         65664     \n",
      "_________________________________________________________________\n",
      "batch_normalization_5 (Batch (None, 7, 7, 128)         512       \n",
      "_________________________________________________________________\n",
      "max_pooling2d_2 (MaxPooling2 (None, 3, 3, 128)         0         \n",
      "_________________________________________________________________\n",
      "dropout_2 (Dropout)          (None, 3, 3, 128)         0         \n",
      "_________________________________________________________________\n",
      "flatten (Flatten)            (None, 1152)              0         \n",
      "_________________________________________________________________\n",
      "dense (Dense)                (None, 512)               590336    \n",
      "_________________________________________________________________\n",
      "batch_normalization_6 (Batch (None, 512)               2048      \n",
      "_________________________________________________________________\n",
      "dense_1 (Dense)              (None, 10)                5130      \n",
      "=================================================================\n",
      "Total params: 783,562\n",
      "Trainable params: 781,642\n",
      "Non-trainable params: 1,920\n",
      "_________________________________________________________________\n"
     ]
    }
   ],
   "source": [
    "model=makeModel2()"
   ]
  },
  {
   "cell_type": "code",
   "execution_count": 15,
   "id": "b9fedcfc",
   "metadata": {},
   "outputs": [],
   "source": [
    "model.compile(optimizer='adam', loss='categorical_crossentropy', metrics=['accuracy',F1_Score])"
   ]
  },
  {
   "cell_type": "code",
   "execution_count": 16,
   "id": "a7223e24",
   "metadata": {
    "scrolled": true
   },
   "outputs": [
    {
     "name": "stdout",
     "output_type": "stream",
     "text": [
      "Epoch 1/50\n",
      "750/750 [==============================] - 29s 32ms/step - loss: 0.4679 - accuracy: 0.8321 - F1_Score: 0.8321 - val_loss: 0.3331 - val_accuracy: 0.8815 - val_F1_Score: 0.8837\n",
      "Epoch 2/50\n",
      "750/750 [==============================] - 24s 32ms/step - loss: 0.3080 - accuracy: 0.8863 - F1_Score: 0.8876 - val_loss: 0.2726 - val_accuracy: 0.9022 - val_F1_Score: 0.9035\n",
      "Epoch 3/50\n",
      "750/750 [==============================] - 23s 31ms/step - loss: 0.2642 - accuracy: 0.9025 - F1_Score: 0.9030 - val_loss: 0.2416 - val_accuracy: 0.9136 - val_F1_Score: 0.9141\n",
      "Epoch 4/50\n",
      "750/750 [==============================] - 22s 30ms/step - loss: 0.2424 - accuracy: 0.9112 - F1_Score: 0.9113 - val_loss: 0.2123 - val_accuracy: 0.9197 - val_F1_Score: 0.9217\n",
      "Epoch 5/50\n",
      "750/750 [==============================] - 22s 30ms/step - loss: 0.2217 - accuracy: 0.9185 - F1_Score: 0.9186 - val_loss: 0.2400 - val_accuracy: 0.9153 - val_F1_Score: 0.9158\n",
      "Epoch 6/50\n",
      "750/750 [==============================] - 22s 30ms/step - loss: 0.2076 - accuracy: 0.9221 - F1_Score: 0.9225 - val_loss: 0.3040 - val_accuracy: 0.9003 - val_F1_Score: 0.9011\n",
      "Epoch 7/50\n",
      "750/750 [==============================] - 23s 30ms/step - loss: 0.1954 - accuracy: 0.9284 - F1_Score: 0.9289 - val_loss: 0.2041 - val_accuracy: 0.9269 - val_F1_Score: 0.9275\n",
      "Epoch 8/50\n",
      "750/750 [==============================] - 23s 30ms/step - loss: 0.1825 - accuracy: 0.9322 - F1_Score: 0.9324 - val_loss: 0.2189 - val_accuracy: 0.9212 - val_F1_Score: 0.9218\n",
      "Epoch 9/50\n",
      "750/750 [==============================] - 23s 31ms/step - loss: 0.1709 - accuracy: 0.9371 - F1_Score: 0.9377 - val_loss: 0.2269 - val_accuracy: 0.9174 - val_F1_Score: 0.9191\n",
      "Epoch 10/50\n",
      "750/750 [==============================] - 23s 30ms/step - loss: 0.1641 - accuracy: 0.9388 - F1_Score: 0.9394 - val_loss: 0.1879 - val_accuracy: 0.9329 - val_F1_Score: 0.9334\n",
      "Epoch 11/50\n",
      "750/750 [==============================] - 23s 31ms/step - loss: 0.1516 - accuracy: 0.9422 - F1_Score: 0.9426 - val_loss: 0.2021 - val_accuracy: 0.9297 - val_F1_Score: 0.9310\n",
      "Epoch 12/50\n",
      "750/750 [==============================] - 23s 31ms/step - loss: 0.1453 - accuracy: 0.9456 - F1_Score: 0.9454 - val_loss: 0.2139 - val_accuracy: 0.9271 - val_F1_Score: 0.9276\n",
      "Epoch 13/50\n",
      "750/750 [==============================] - 24s 32ms/step - loss: 0.1337 - accuracy: 0.9508 - F1_Score: 0.9509 - val_loss: 0.1937 - val_accuracy: 0.9312 - val_F1_Score: 0.9317\n",
      "Epoch 14/50\n",
      "750/750 [==============================] - 23s 31ms/step - loss: 0.1244 - accuracy: 0.9531 - F1_Score: 0.9532 - val_loss: 0.2162 - val_accuracy: 0.9264 - val_F1_Score: 0.9274\n",
      "Epoch 15/50\n",
      "750/750 [==============================] - 24s 31ms/step - loss: 0.1204 - accuracy: 0.9557 - F1_Score: 0.9560 - val_loss: 0.2186 - val_accuracy: 0.9259 - val_F1_Score: 0.9273\n",
      "Epoch 16/50\n",
      "750/750 [==============================] - 24s 32ms/step - loss: 0.1096 - accuracy: 0.9591 - F1_Score: 0.9593 - val_loss: 0.1989 - val_accuracy: 0.9326 - val_F1_Score: 0.9328\n",
      "Epoch 17/50\n",
      "750/750 [==============================] - 24s 32ms/step - loss: 0.1029 - accuracy: 0.9613 - F1_Score: 0.9614 - val_loss: 0.1999 - val_accuracy: 0.9326 - val_F1_Score: 0.9338\n",
      "Epoch 18/50\n",
      "750/750 [==============================] - 25s 33ms/step - loss: 0.1031 - accuracy: 0.9615 - F1_Score: 0.9616 - val_loss: 0.2032 - val_accuracy: 0.9329 - val_F1_Score: 0.9331\n",
      "Epoch 19/50\n",
      "750/750 [==============================] - 25s 33ms/step - loss: 0.0923 - accuracy: 0.9654 - F1_Score: 0.9654 - val_loss: 0.2000 - val_accuracy: 0.9355 - val_F1_Score: 0.9357\n",
      "Epoch 20/50\n",
      "750/750 [==============================] - 25s 33ms/step - loss: 0.0854 - accuracy: 0.9675 - F1_Score: 0.9677 - val_loss: 0.2224 - val_accuracy: 0.9305 - val_F1_Score: 0.9307\n",
      "Epoch 21/50\n",
      "750/750 [==============================] - 24s 32ms/step - loss: 0.0810 - accuracy: 0.9694 - F1_Score: 0.9696 - val_loss: 0.2221 - val_accuracy: 0.9347 - val_F1_Score: 0.9349\n",
      "Epoch 22/50\n",
      "750/750 [==============================] - 25s 34ms/step - loss: 0.0773 - accuracy: 0.9706 - F1_Score: 0.9707 - val_loss: 0.2078 - val_accuracy: 0.9322 - val_F1_Score: 0.9332\n",
      "Epoch 23/50\n",
      "750/750 [==============================] - 23s 31ms/step - loss: 0.0769 - accuracy: 0.9709 - F1_Score: 0.9709 - val_loss: 0.2210 - val_accuracy: 0.9354 - val_F1_Score: 0.9359\n",
      "Epoch 24/50\n",
      "750/750 [==============================] - 23s 31ms/step - loss: 0.0731 - accuracy: 0.9724 - F1_Score: 0.9728 - val_loss: 0.2169 - val_accuracy: 0.9342 - val_F1_Score: 0.9351\n",
      "Epoch 25/50\n",
      "750/750 [==============================] - 23s 31ms/step - loss: 0.0656 - accuracy: 0.9756 - F1_Score: 0.9756 - val_loss: 0.2189 - val_accuracy: 0.9357 - val_F1_Score: 0.9365\n",
      "Epoch 26/50\n",
      "750/750 [==============================] - 22s 30ms/step - loss: 0.0623 - accuracy: 0.9762 - F1_Score: 0.9763 - val_loss: 0.2323 - val_accuracy: 0.9388 - val_F1_Score: 0.9391\n",
      "Epoch 27/50\n",
      "750/750 [==============================] - 22s 30ms/step - loss: 0.0605 - accuracy: 0.9768 - F1_Score: 0.9768 - val_loss: 0.2298 - val_accuracy: 0.9315 - val_F1_Score: 0.9318\n",
      "Epoch 28/50\n",
      "750/750 [==============================] - 22s 30ms/step - loss: 0.0595 - accuracy: 0.9778 - F1_Score: 0.9779 - val_loss: 0.2415 - val_accuracy: 0.9338 - val_F1_Score: 0.9346\n",
      "Epoch 29/50\n",
      "750/750 [==============================] - 22s 30ms/step - loss: 0.0534 - accuracy: 0.9799 - F1_Score: 0.9800 - val_loss: 0.2415 - val_accuracy: 0.9333 - val_F1_Score: 0.9338\n",
      "Epoch 30/50\n",
      "750/750 [==============================] - 22s 30ms/step - loss: 0.0549 - accuracy: 0.9800 - F1_Score: 0.9799 - val_loss: 0.2348 - val_accuracy: 0.9371 - val_F1_Score: 0.9377\n",
      "Epoch 31/50\n",
      "750/750 [==============================] - 22s 30ms/step - loss: 0.0507 - accuracy: 0.9808 - F1_Score: 0.9809 - val_loss: 0.2477 - val_accuracy: 0.9381 - val_F1_Score: 0.9383\n",
      "Epoch 32/50\n",
      "750/750 [==============================] - 22s 30ms/step - loss: 0.0523 - accuracy: 0.9800 - F1_Score: 0.9799 - val_loss: 0.2563 - val_accuracy: 0.9359 - val_F1_Score: 0.9365\n",
      "Epoch 33/50\n",
      "750/750 [==============================] - 22s 30ms/step - loss: 0.0480 - accuracy: 0.9821 - F1_Score: 0.9821 - val_loss: 0.2336 - val_accuracy: 0.9376 - val_F1_Score: 0.9379\n",
      "Epoch 34/50\n",
      "750/750 [==============================] - 22s 30ms/step - loss: 0.0445 - accuracy: 0.9835 - F1_Score: 0.9836 - val_loss: 0.2492 - val_accuracy: 0.9338 - val_F1_Score: 0.9345\n",
      "Epoch 35/50\n",
      "750/750 [==============================] - 22s 30ms/step - loss: 0.0462 - accuracy: 0.9831 - F1_Score: 0.9831 - val_loss: 0.2626 - val_accuracy: 0.9342 - val_F1_Score: 0.9345\n",
      "Epoch 36/50\n",
      "750/750 [==============================] - 22s 30ms/step - loss: 0.0432 - accuracy: 0.9840 - F1_Score: 0.9839 - val_loss: 0.2578 - val_accuracy: 0.9380 - val_F1_Score: 0.9384\n",
      "Epoch 37/50\n",
      "750/750 [==============================] - 22s 30ms/step - loss: 0.0429 - accuracy: 0.9843 - F1_Score: 0.9842 - val_loss: 0.2623 - val_accuracy: 0.9367 - val_F1_Score: 0.9371\n",
      "Epoch 38/50\n",
      "750/750 [==============================] - 22s 30ms/step - loss: 0.0404 - accuracy: 0.9853 - F1_Score: 0.9853 - val_loss: 0.2620 - val_accuracy: 0.9376 - val_F1_Score: 0.9381\n",
      "Epoch 39/50\n",
      "750/750 [==============================] - 22s 30ms/step - loss: 0.0389 - accuracy: 0.9859 - F1_Score: 0.9857 - val_loss: 0.2884 - val_accuracy: 0.9324 - val_F1_Score: 0.9325\n",
      "Epoch 40/50\n",
      "750/750 [==============================] - 22s 30ms/step - loss: 0.0374 - accuracy: 0.9864 - F1_Score: 0.9864 - val_loss: 0.2806 - val_accuracy: 0.9342 - val_F1_Score: 0.9347\n",
      "Epoch 41/50\n",
      "750/750 [==============================] - 22s 30ms/step - loss: 0.0384 - accuracy: 0.9859 - F1_Score: 0.9859 - val_loss: 0.2865 - val_accuracy: 0.9351 - val_F1_Score: 0.9354\n",
      "Epoch 42/50\n",
      "750/750 [==============================] - 22s 30ms/step - loss: 0.0369 - accuracy: 0.9868 - F1_Score: 0.9869 - val_loss: 0.2679 - val_accuracy: 0.9387 - val_F1_Score: 0.9389\n",
      "Epoch 43/50\n",
      "750/750 [==============================] - 22s 30ms/step - loss: 0.0326 - accuracy: 0.9882 - F1_Score: 0.9882 - val_loss: 0.2987 - val_accuracy: 0.9354 - val_F1_Score: 0.9357\n",
      "Epoch 44/50\n",
      "750/750 [==============================] - 22s 30ms/step - loss: 0.0347 - accuracy: 0.9875 - F1_Score: 0.9874 - val_loss: 0.2746 - val_accuracy: 0.9353 - val_F1_Score: 0.9358\n"
     ]
    },
    {
     "name": "stdout",
     "output_type": "stream",
     "text": [
      "Epoch 45/50\n",
      "750/750 [==============================] - 22s 30ms/step - loss: 0.0333 - accuracy: 0.9880 - F1_Score: 0.9881 - val_loss: 0.2926 - val_accuracy: 0.9383 - val_F1_Score: 0.9390\n",
      "Epoch 46/50\n",
      "750/750 [==============================] - 22s 30ms/step - loss: 0.0318 - accuracy: 0.9885 - F1_Score: 0.9886 - val_loss: 0.2555 - val_accuracy: 0.9369 - val_F1_Score: 0.9373\n",
      "Epoch 47/50\n",
      "750/750 [==============================] - 22s 30ms/step - loss: 0.0300 - accuracy: 0.9897 - F1_Score: 0.9897 - val_loss: 0.2939 - val_accuracy: 0.9323 - val_F1_Score: 0.9327\n",
      "Epoch 48/50\n",
      "750/750 [==============================] - 22s 30ms/step - loss: 0.0329 - accuracy: 0.9879 - F1_Score: 0.9879 - val_loss: 0.2818 - val_accuracy: 0.9367 - val_F1_Score: 0.9370\n",
      "Epoch 49/50\n",
      "750/750 [==============================] - 22s 30ms/step - loss: 0.0307 - accuracy: 0.9884 - F1_Score: 0.9883 - val_loss: 0.2872 - val_accuracy: 0.9362 - val_F1_Score: 0.9364\n",
      "Epoch 50/50\n",
      "750/750 [==============================] - 22s 30ms/step - loss: 0.0312 - accuracy: 0.9891 - F1_Score: 0.9890 - val_loss: 0.2786 - val_accuracy: 0.9363 - val_F1_Score: 0.9366\n"
     ]
    }
   ],
   "source": [
    "history=model.fit(x,y,batch_size=64,epochs=50,validation_split=0.2)"
   ]
  },
  {
   "cell_type": "code",
   "execution_count": 17,
   "id": "9c401118",
   "metadata": {},
   "outputs": [
    {
     "data": {
      "text/plain": [
       "[<matplotlib.lines.Line2D at 0x23960cfd648>]"
      ]
     },
     "execution_count": 17,
     "metadata": {},
     "output_type": "execute_result"
    },
    {
     "data": {
      "image/png": "[encoded data removed]",
      "text/plain": [
       "<Figure size 432x288 with 1 Axes>"
      ]
     },
     "metadata": {
      "needs_background": "light"
     },
     "output_type": "display_data"
    }
   ],
   "source": [
    "plt.plot(history.history['loss'],'red')\n",
    "plt.plot(history.history['val_loss'],'blue')"
   ]
  },
  {
   "cell_type": "code",
   "execution_count": 18,
   "id": "c726c2a9",
   "metadata": {},
   "outputs": [
    {
     "data": {
      "text/plain": [
       "[<matplotlib.lines.Line2D at 0x23968782e48>]"
      ]
     },
     "execution_count": 18,
     "metadata": {},
     "output_type": "execute_result"
    },
    {
     "data": {
      "image/png": "[encoded data removed]",
      "text/plain": [
       "<Figure size 432x288 with 1 Axes>"
      ]
     },
     "metadata": {
      "needs_background": "light"
     },
     "output_type": "display_data"
    }
   ],
   "source": [
    "plt.plot(history.history['accuracy'],'red')\n",
    "plt.plot(history.history['val_accuracy'],'blue')"
   ]
  },
  {
   "cell_type": "code",
   "execution_count": 19,
   "id": "ccedf1fa",
   "metadata": {},
   "outputs": [
    {
     "data": {
      "text/plain": [
       "[<matplotlib.lines.Line2D at 0x23978e13cc8>]"
      ]
     },
     "execution_count": 19,
     "metadata": {},
     "output_type": "execute_result"
    },
    {
     "data": {
      "image/png": "[encoded data removed]",
      "text/plain": [
       "<Figure size 432x288 with 1 Axes>"
      ]
     },
     "metadata": {
      "needs_background": "light"
     },
     "output_type": "display_data"
    }
   ],
   "source": [
    "plt.plot(history.history['F1_Score'],'red')\n",
    "plt.plot(history.history['val_F1_Score'],'blue')"
   ]
  },
  {
   "cell_type": "markdown",
   "id": "4dccfc77",
   "metadata": {},
   "source": [
    "## Testing time!"
   ]
  },
  {
   "cell_type": "code",
   "execution_count": 20,
   "id": "016334d5",
   "metadata": {},
   "outputs": [],
   "source": [
    "from PIL import Image,ImageOps\n",
    "import os\n",
    "dirr=r'/fashion_mnist_classification_challenge-dataset/Fashion_MNIST/test/'\n",
    "fname, test = [], []\n",
    "\n",
    "for file in os.listdir(dirr):\n",
    "    img = ImageOps.grayscale(Image.open(dirr+file))\n",
    "    fname.append(file)\n",
    "    test.append(np.array(img).reshape(28, 28, 1))\n",
    "\n",
    "test = np.array(test)\n",
    "test=test/255."
   ]
  },
  {
   "cell_type": "code",
   "execution_count": 21,
   "id": "2cfbfc58",
   "metadata": {},
   "outputs": [
    {
     "data": {
      "text/plain": [
       "(10000, 28, 28, 1)"
      ]
     },
     "execution_count": 21,
     "metadata": {},
     "output_type": "execute_result"
    }
   ],
   "source": [
    "test.shape"
   ]
  },
  {
   "cell_type": "code",
   "execution_count": 22,
   "id": "32b5f915",
   "metadata": {},
   "outputs": [],
   "source": [
    "preds=model.predict(test)"
   ]
  },
  {
   "cell_type": "code",
   "execution_count": 23,
   "id": "580e4ff1",
   "metadata": {},
   "outputs": [],
   "source": [
    "predsNumbers=np.argmax(preds,axis=1)"
   ]
  },
  {
   "cell_type": "code",
   "execution_count": 24,
   "id": "9a28ae58",
   "metadata": {},
   "outputs": [
    {
     "data": {
      "text/plain": [
       "array([9, 7, 2, ..., 1, 8, 1], dtype=int64)"
      ]
     },
     "execution_count": 24,
     "metadata": {},
     "output_type": "execute_result"
    }
   ],
   "source": [
    "predsNumbers"
   ]
  },
  {
   "cell_type": "code",
   "execution_count": 25,
   "id": "91a72a60",
   "metadata": {},
   "outputs": [],
   "source": [
    "submit = pd.DataFrame({'filename': fname, 'label': predsNumbers})\n",
    "submit.to_csv('Attempt 4.csv', index=False)"
   ]
  },
  {
   "cell_type": "code",
   "execution_count": null,
   "id": "b827d397",
   "metadata": {},
   "outputs": [],
   "source": []
  }
 ],
 "metadata": {
  "kernelspec": {
   "display_name": "Python 3",
   "language": "python",
   "name": "python3"
  },
  "language_info": {
   "codemirror_mode": {
    "name": "ipython",
    "version": 3
   },
   "file_extension": ".py",
   "mimetype": "text/x-python",
   "name": "python",
   "nbconvert_exporter": "python",
   "pygments_lexer": "ipython3",
   "version": "3.7.7"
  }
 },
 "nbformat": 4,
 "nbformat_minor": 5
}
